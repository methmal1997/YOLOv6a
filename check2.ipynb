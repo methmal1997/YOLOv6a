{
 "cells": [
  {
   "cell_type": "code",
   "execution_count": 1,
   "id": "4c56de55-daef-4862-bfcd-86024796db79",
   "metadata": {},
   "outputs": [
    {
     "name": "stdout",
     "output_type": "stream",
     "text": [
      "python: can't open file '/data/shared/methmal/PycharmProjects/YOLOv6s/tools/train.py': [Errno 2] No such file or directory\n"
     ]
    }
   ],
   "source": [
    "!python tools/train.py --batch 16 --conf configs/yolov6s_finetune.py --data-path dataset.yaml --device 0 --epochs 10 --eval-interval 2"
   ]
  },
  {
   "cell_type": "code",
   "execution_count": null,
   "id": "c4584143-3446-4b08-9e40-6a56fd4c2156",
   "metadata": {},
   "outputs": [],
   "source": []
  }
 ],
 "metadata": {
  "kernelspec": {
   "display_name": "Python 3 (ipykernel)",
   "language": "python",
   "name": "python3"
  },
  "language_info": {
   "codemirror_mode": {
    "name": "ipython",
    "version": 3
   },
   "file_extension": ".py",
   "mimetype": "text/x-python",
   "name": "python",
   "nbconvert_exporter": "python",
   "pygments_lexer": "ipython3",
   "version": "3.9.7"
  }
 },
 "nbformat": 4,
 "nbformat_minor": 5
}
